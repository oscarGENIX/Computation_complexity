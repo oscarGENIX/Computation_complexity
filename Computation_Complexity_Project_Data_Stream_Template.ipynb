{
  "nbformat": 4,
  "nbformat_minor": 0,
  "metadata": {
    "colab": {
      "name": "Computation Complexity Project : Data Stream Template.ipynb",
      "provenance": [],
      "collapsed_sections": [
        "lAq_pIMGJyY7"
      ],
      "include_colab_link": true
    },
    "kernelspec": {
      "name": "python3",
      "display_name": "Python 3"
    }
  },
  "cells": [
    {
      "cell_type": "markdown",
      "metadata": {
        "id": "view-in-github",
        "colab_type": "text"
      },
      "source": [
        "<a href=\"https://colab.research.google.com/github/oscarGENIX/Computation_complexity/blob/main/Computation_Complexity_Project_Data_Stream_Template.ipynb\" target=\"_parent\"><img src=\"https://colab.research.google.com/assets/colab-badge.svg\" alt=\"Open In Colab\"/></a>"
      ]
    },
    {
      "cell_type": "markdown",
      "metadata": {
        "id": "evORcG7QUnhW"
      },
      "source": [
        "# Context : Data Stream, the Computational Complexity project\n",
        "\n",
        "In this project we want to respond to a simple problematic : \n",
        "\n",
        "*   write an algorithm that give the **100 maximum numbers** of a very large stream of number (> 100&nbsp;000)\n",
        "*   with the **smallest memory cost** possible (<1 KiB)\n",
        "*   with the **lowest algorithmic complexity** possible\n",
        "\n",
        "---\n",
        "\n",
        "**This deliverable** is a Jupyter Notebook composed of several parts :\n",
        " - Presentation and codes of your algorithm(s)\n",
        " - Check : result validity\n",
        " - Check : memory complexity curves\n",
        " - Challenge : time complexity curves "
      ]
    },
    {
      "cell_type": "markdown",
      "metadata": {
        "id": "urVG8OPRDl6j"
      },
      "source": [
        "# Presentation of your algorithm(s) and their codes\n",
        "\n"
      ]
    },
    {
      "cell_type": "markdown",
      "metadata": {
        "id": "3v8582TuJSM3"
      },
      "source": [
        "\n",
        "## Algorithm #1 (simple)\n"
      ]
    },
    {
      "cell_type": "markdown",
      "metadata": {
        "id": "umbihNd4JUMU"
      },
      "source": [
        "\n",
        "### Idea developped\n",
        "\n",
        "*Please evoque HERE what you tried to do*"
      ]
    },
    {
      "cell_type": "markdown",
      "metadata": {
        "id": "W0DiABmjJc2K"
      },
      "source": [
        "### Code"
      ]
    },
    {
      "cell_type": "code",
      "metadata": {
        "id": "GNrJN725JPCM"
      },
      "source": [
        "#This function read the file AS A STREAM seek the maximum value on the go => TO BE CHANGED BY YOU\n",
        "def filterMaxByLineSimple(filename):\n",
        "  with open(filename,\"r\") as f: # Opening the file in reading mode\n",
        "    if f.mode == 'r': # If opening went well and the file is readable\n",
        "      #Initialisation of max search\n",
        "      first=True\n",
        "      max_value=0\n",
        "\n",
        "      line = f.readline() # Loading the first line\n",
        "      while line: # While there is new line to be read\n",
        "        value = int(line) # String to int conversion\n",
        "        if first or max_value < value: # Seeking maximum value\n",
        "          max_value=value\n",
        "          first=False\n",
        "        line = f.readline() # Loading the next line\n",
        "    return([max_value]) # Printing the maximum value"
      ],
      "execution_count": null,
      "outputs": []
    },
    {
      "cell_type": "markdown",
      "metadata": {
        "id": "lAq_pIMGJyY7"
      },
      "source": [
        "## Algorithm #2 (optimised ? optional !)\n"
      ]
    },
    {
      "cell_type": "markdown",
      "metadata": {
        "id": "CqrX1fWpJyZW"
      },
      "source": [
        "\n",
        "### Idea developped\n",
        "\n",
        "*Please evoque HERE what you tried to do*"
      ]
    },
    {
      "cell_type": "markdown",
      "metadata": {
        "id": "k7sk5jMmJyZW"
      },
      "source": [
        "### Code"
      ]
    },
    {
      "cell_type": "code",
      "metadata": {
        "id": "AAoGafcIJyZX"
      },
      "source": [
        "# This function read the file AS A STREAM seek the maximum value on the go => TO BE CHANGED BY YOU\n",
        "def filterMaxByLineOptimized(filename):\n",
        "    with open(filename, \"r\") as f:  # Opening the file in reading mode\n",
        "        if f.mode == 'r':  # If opening went well and the file is readable\n",
        "            # Initialisation of max search\n",
        "\n",
        "            max_tableau = [0] * 100\n",
        "\n",
        "            max_value_min = 0\n",
        "            index_value = 0 \n",
        "            min = 0\n",
        "            index = 0\n",
        "\n",
        "            line = f.readline()\n",
        "            \n",
        "            for i in range(len(max_tableau)):\n",
        "                value = int(line)\n",
        "                max_tableau[i] = value\n",
        "                line = f.readline()\n",
        "            heapSort(max_tableau)\n",
        "            max_value_min = max_tableau[0]\n",
        "\n",
        "            line = f.readline()  # Loading the 101 line\n",
        "            while line:  # While there is new line to be read\n",
        "                value = int(line)  # String to int conversion \n",
        "                if max_value_min < value: \n",
        "                  max_tableau[index_value]= value\n",
        "                  # Seeking maximum value\n",
        "                  min = max_tableau[0]\n",
        "                  index = 0\n",
        "                  for i in range(len(max_tableau)):\n",
        "                    if max_tableau[i] < min:\n",
        "                      min = max_tableau[i]\n",
        "                      index = i\n",
        "                  max_value_min = min\n",
        "                  index_value=index  \n",
        "                line = f.readline()  # Loading the next line\n",
        "        return (max_tableau)  # Printing the maximum value\n",
        "\n",
        "def heapify(arr, n, i):\n",
        "    largest = i # Initialize largest as root\n",
        "    l = 2 * i + 1\t # left = 2*i + 1\n",
        "    r = 2 * i + 2\t # right = 2*i + 2\n",
        "\n",
        "# See if left child of root exists and is\n",
        "# greater than root\n",
        "    if l < n and arr[i] < arr[l]:\n",
        "        largest = l\n",
        "\n",
        "# See if right child of root exists and is\n",
        "# greater than root\n",
        "    if r < n and arr[largest] < arr[r]:\n",
        "        largest = r\n",
        "\n",
        "# Change root, if needed\n",
        "    if largest != i:\n",
        "        arr[i],arr[largest] = arr[largest],arr[i] # swap\n",
        "\n",
        "    # Heapify the root.\n",
        "        heapify(arr, n, largest)\n",
        "\n",
        "# The main function to sort an array of given size\n",
        "def heapSort(arr):\n",
        "    n = len(arr)\n",
        "\n",
        "# Build a maxheap.\n",
        "# Since last parent will be at ((n//2)-1) we can start at that location.\n",
        "    for i in range(n // 2 - 1, -1, -1):\n",
        "        heapify(arr, n, i)\n",
        "# One by one extract elements\n",
        "    for i in range(n-1, 0, -1):\n",
        "        arr[i], arr[0] = arr[0], arr[i] # swap\n",
        "        heapify(arr, i, 0)"
      ],
      "execution_count": null,
      "outputs": []
    },
    {
      "cell_type": "markdown",
      "metadata": {
        "id": "JOuBw4EpGxMN"
      },
      "source": [
        "# Prerequisite to the profiling"
      ]
    },
    {
      "cell_type": "code",
      "metadata": {
        "colab": {
          "base_uri": "https://localhost:8080/"
        },
        "id": "MG2-NHy0KEvx",
        "outputId": "304e1abf-fcff-465e-8421-aeac56e92011"
      },
      "source": [
        "!pip install pprofile\n",
        "!pip install memory_profiler"
      ],
      "execution_count": null,
      "outputs": [
        {
          "output_type": "stream",
          "text": [
            "Collecting pprofile\n",
            "\u001b[?25l  Downloading https://files.pythonhosted.org/packages/dd/db/198fd60559f77c5334f520e2a94cde5c8c6f5f4e65f82f5b22269e6e5ff2/pprofile-2.0.5.tar.gz (54kB)\n",
            "\r\u001b[K     |██████                          | 10kB 12.2MB/s eta 0:00:01\r\u001b[K     |████████████                    | 20kB 17.5MB/s eta 0:00:01\r\u001b[K     |██████████████████              | 30kB 12.4MB/s eta 0:00:01\r\u001b[K     |███████████████████████▉        | 40kB 8.5MB/s eta 0:00:01\r\u001b[K     |█████████████████████████████▉  | 51kB 8.5MB/s eta 0:00:01\r\u001b[K     |████████████████████████████████| 61kB 3.8MB/s \n",
            "\u001b[?25hBuilding wheels for collected packages: pprofile\n",
            "  Building wheel for pprofile (setup.py) ... \u001b[?25l\u001b[?25hdone\n",
            "  Created wheel for pprofile: filename=pprofile-2.0.5-cp37-none-any.whl size=34838 sha256=0d7487597e1eee8e7451d6750302fd4360df3f859984abadb3351e4a020606c4\n",
            "  Stored in directory: /root/.cache/pip/wheels/b7/7e/dc/fa6663a43280716fe9a4fedfcfaae1e22fc26c701afff093c6\n",
            "Successfully built pprofile\n",
            "Installing collected packages: pprofile\n",
            "Successfully installed pprofile-2.0.5\n",
            "Collecting memory_profiler\n",
            "  Downloading https://files.pythonhosted.org/packages/8f/fd/d92b3295657f8837e0177e7b48b32d6651436f0293af42b76d134c3bb489/memory_profiler-0.58.0.tar.gz\n",
            "Requirement already satisfied: psutil in /usr/local/lib/python3.7/dist-packages (from memory_profiler) (5.4.8)\n",
            "Building wheels for collected packages: memory-profiler\n",
            "  Building wheel for memory-profiler (setup.py) ... \u001b[?25l\u001b[?25hdone\n",
            "  Created wheel for memory-profiler: filename=memory_profiler-0.58.0-cp37-none-any.whl size=30180 sha256=cc3a53478b882c894a2c3c205a8a15e0f3fe7b48ef22db061eae1e7f1f09e936\n",
            "  Stored in directory: /root/.cache/pip/wheels/02/e4/0b/aaab481fc5dd2a4ea59e78bc7231bb6aae7635ca7ee79f8ae5\n",
            "Successfully built memory-profiler\n",
            "Installing collected packages: memory-profiler\n",
            "Successfully installed memory-profiler-0.58.0\n"
          ],
          "name": "stdout"
        }
      ]
    },
    {
      "cell_type": "markdown",
      "metadata": {
        "id": "R9lrLAQEHK5u"
      },
      "source": [
        "### Generate the data files online :"
      ]
    },
    {
      "cell_type": "code",
      "metadata": {
        "id": "1ZTo54hU5XiH",
        "colab": {
          "base_uri": "https://localhost:8080/"
        },
        "outputId": "c8ebd7a2-aad5-4a4f-b31e-5266020e9f42"
      },
      "source": [
        "import sys\n",
        "import numpy as np\n",
        "\n",
        "filelist={\"A_100mille.txt\":100000,\"B_200mille.txt\":200000,\"C_1Million.txt\":1000000}\n",
        "\n",
        "np.random.seed(42) # Common seed for comparison between every participants\n",
        "\n",
        "for filename, dataSize in filelist.items():\n",
        "    f= open(filename,\"w\")\n",
        "    for i in range(0,dataSize):\n",
        "\t    f.write(\"%d\\r\\n\" % np.random.randint(-sys.maxsize-1,sys.maxsize))\n",
        "    f.close\n",
        "\n",
        "!ls -lh # Printing the list of file available"
      ],
      "execution_count": null,
      "outputs": [
        {
          "output_type": "stream",
          "text": [
            "total 1.3G\n",
            "-rw-r--r-- 1 root root  2.1M Apr 21 15:02 A_100mille.txt\n",
            "-rw-r--r-- 1 root root  2.1K Apr 21 14:59 A_dixmille.txt\n",
            "-rw-r--r-- 1 root root  4.1M Apr 21 15:02 B_200mille.txt\n",
            "-rw-r--r-- 1 root root   21K Apr 21 14:59 B_centmille.txt\n",
            "-rw-r--r-- 1 root root   21M Apr 21 15:02 C_1Million.txt\n",
            "-rw-r--r-- 1 root root  105K Apr 21 15:02 C_cinqcentmille.txt\n",
            "-rw-r--r-- 1 root root  204M Apr 21 14:28 D_10million.txt\n",
            "-rw-r--r-- 1 root root   21M Apr 21 14:27 D_unmillion.txt\n",
            "-rw-r--r-- 1 root root 1020M Apr 21 14:59 E_50million.txt\n",
            "drwxr-xr-x 1 root root  4.0K Apr  7 13:36 sample_data\n"
          ],
          "name": "stdout"
        }
      ]
    },
    {
      "cell_type": "markdown",
      "metadata": {
        "id": "_pW8p52VQKUk"
      },
      "source": [
        "#Check : Result validity"
      ]
    },
    {
      "cell_type": "markdown",
      "metadata": {
        "id": "l_LnjqXlWvM-"
      },
      "source": [
        "Getting the verification data by cheating"
      ]
    },
    {
      "cell_type": "code",
      "metadata": {
        "id": "NElXRW8QWsvx"
      },
      "source": [
        "def cheaterFunction(filename):\n",
        "  with open(filename,\"r\") as f: # Opening the file in reading mode\n",
        "    if f.mode == 'r': # If opening went well and the file is readable\n",
        "      array = sorted(map(int, f.readlines()), reverse=True) # Loading the whole file, convert it to integers and sort it\n",
        "      return array[0:100]\n",
        "\n",
        "resultCheck={}\n",
        "for filename,dataSize in filelist.items():\n",
        "  resultCheck[filename] = cheaterFunction(filename)"
      ],
      "execution_count": null,
      "outputs": []
    },
    {
      "cell_type": "markdown",
      "metadata": {
        "id": "a3xx1j9FW7ea"
      },
      "source": [
        "Actual verification of your code"
      ]
    },
    {
      "cell_type": "code",
      "metadata": {
        "colab": {
          "base_uri": "https://localhost:8080/"
        },
        "id": "JsYwlO-nQPgl",
        "outputId": "b45ff3de-7966-4f31-8201-3e654f7d4ed1"
      },
      "source": [
        "for filename,dataSize in filelist.items():\n",
        "  resultSimple = filterMaxByLineSimple(filename)\n",
        "  resultSimple.sort(reverse=True)\n",
        "  if (resultCheck[filename] != resultSimple):\n",
        "    print(\"Invalid result for the simple algorithm with\", filename, \"!\")\n",
        "    print(\"Extrait du resultat attendu : \",resultCheck[filename])\n",
        "    print(\"Extrait du resultat obtenu : \",resultSimple)\n",
        "    break\n",
        "  else:\n",
        "    print(\"Simple algorithm with\", filename, \": OK\")\n",
        "\n"
      ],
      "execution_count": null,
      "outputs": [
        {
          "output_type": "stream",
          "text": [
            "Invalid result for the simple algorithm with A_100mille.txt !\n",
            "Extrait du resultat attendu :  [9223225204532880781, 9222928909263254571, 9222858284390276097, 9222577933965557959, 9222259722531932299, 9221985318308665545, 9221545367331528018, 9221353203941887783, 9221068139476566927, 9221000483634425738, 9220922221667941473, 9220842769444678892, 9220761367450099316, 9220469593673657575, 9220444547260163141, 9220260401698000500, 9220120867523032164, 9220013685440393057, 9219777462281109222, 9219610081214910129, 9219486530108030273, 9219432517995981870, 9219110179419054908, 9218929754577041395, 9218838283495445692, 9218801603250055094, 9218429869367402493, 9218164957756032470, 9218164057221768836, 9218034102855414616, 9217902802645911087, 9217786608703173155, 9217757025873781309, 9217651363958182046, 9217343733930804766, 9217327195648345898, 9217243893358279278, 9217032074864168573, 9216907098730937416, 9216531271702181433, 9216421516764576407, 9216341763648956430, 9215963526524829739, 9215919447642026090, 9215845455530388399, 9215275389376400657, 9215267673927717637, 9215213003168247820, 9215070097511721378, 9214935017456784321, 9214310865623688737, 9214244366717535232, 9213977204771173754, 9213423375774400266, 9213393656274015248, 9213320147028856467, 9213235946009640815, 9212962825810865466, 9212842293682380845, 9212655851908321972, 9212592165477909863, 9212557178657718975, 9212499333335125850, 9212293216129177340, 9212065164596053837, 9212014760225828828, 9211849397849816267, 9211387191772904760, 9211337324702167996, 9211107258223437332, 9210449696833840093, 9210026177413771949, 9209881611530553139, 9209363233951139074, 9209250720021196077, 9209171042661015875, 9208749350247183368, 9208222683034268857, 9207924988142217241, 9207823297366273156, 9207684264156719184, 9207453888747231359, 9206954059278788877, 9206835319336026994, 9206448752281634044, 9206326427517508765, 9205100775609429910, 9204708752226748734, 9204600517572793937, 9204482260595226477, 9204367120698152803, 9203873129107333076, 9203702940418794967, 9203600047439952166, 9203380431848243489, 9203167335121995510, 9202944295805462155, 9202932265236342670, 9202909375730669846, 9202242859864323556]\n",
            "Extrait du resultat obtenu :  [9223225204532880781]\n"
          ],
          "name": "stdout"
        }
      ]
    },
    {
      "cell_type": "code",
      "metadata": {
        "colab": {
          "base_uri": "https://localhost:8080/"
        },
        "id": "S4AAV4vuXCS7",
        "outputId": "a30d3970-3c7e-4772-d63f-89ce6e1b3519"
      },
      "source": [
        "for filename,dataSize in filelist.items():\n",
        "  resultOptimized = filterMaxByLineOptimized(filename)\n",
        "  resultOptimized.sort(reverse=True)\n",
        "  if (resultCheck[filename] != resultOptimized):\n",
        "    print(\"Invalid result for the optimized algorithm with\", filename, \"!\")\n",
        "    print(\"Extrait du resultat attendu : \",resultCheck[filename])\n",
        "    print(\"Extrait du resultat obtenu : \",resultOptimized)\n",
        "    break\n",
        "  else:\n",
        "    print(\"Optimized algorithm with\", filename, \": OK\")\n"
      ],
      "execution_count": null,
      "outputs": [
        {
          "output_type": "stream",
          "text": [
            "Optimized algorithm with A_100mille.txt : OK\n",
            "Optimized algorithm with B_200mille.txt : OK\n",
            "Optimized algorithm with C_1Million.txt : OK\n"
          ],
          "name": "stdout"
        }
      ]
    },
    {
      "cell_type": "markdown",
      "metadata": {
        "id": "3NBXmm8WKzjX"
      },
      "source": [
        "# Check : Memory complexity curves"
      ]
    },
    {
      "cell_type": "code",
      "metadata": {
        "id": "jsaOxwhoM8l1",
        "colab": {
          "base_uri": "https://localhost:8080/"
        },
        "outputId": "558c605b-47fc-44fb-aab5-640d7fd52ef5"
      },
      "source": [
        "from memory_profiler import memory_usage #Import the library\n",
        "\n",
        "sizeList=[]\n",
        "mcostListSimple=[]\n",
        "mcostListOptimized=[]\n",
        "mcostListThreshold=[]\n",
        "\n",
        "# We will iterate on each file to find the complexity curve\n",
        "for filename,dataSize in filelist.items():\n",
        "  sizeList.append(dataSize)\n",
        "  mem_during_execution = memory_usage((filterMaxByLineSimple,(filename,))) #memory_usage take the function name and its paramater(s). It return an array of memory size during execution\n",
        "  memory_increment = max(mem_during_execution)-min(mem_during_execution) #The memory used by the function\n",
        "  mcostListSimple.append(memory_increment)\n",
        "  mem_during_execution = memory_usage((filterMaxByLineOptimized,(filename,))) #memory_usage take the function name and its paramater(s). It return an array of memory size during execution\n",
        "  memory_increment = max(mem_during_execution)-min(mem_during_execution) #The memory used by the function\n",
        "  mcostListOptimized.append(memory_increment)\n",
        "  mcostListThreshold.append(0.001)\n",
        "\n",
        "print(sizeList)\n",
        "print(mcostListSimple)\n",
        "print(mcostListOptimized)\n",
        "\n",
        "\n",
        "\n"
      ],
      "execution_count": null,
      "outputs": [
        {
          "output_type": "stream",
          "text": [
            "[100000, 200000, 1000000]\n",
            "[0.0, 0.0, 0.0]\n",
            "[0.0, 0.0, 0.0]\n"
          ],
          "name": "stdout"
        }
      ]
    },
    {
      "cell_type": "code",
      "metadata": {
        "colab": {
          "base_uri": "https://localhost:8080/",
          "height": 295
        },
        "id": "YNiNDOT7NBA1",
        "outputId": "bdeacc68-fd36-4912-962e-0736bbb00a2f"
      },
      "source": [
        "#Let's plot things !\n",
        "import matplotlib\n",
        "import matplotlib.pyplot as plt\n",
        "\n",
        "# Data for plotting\n",
        "#sizeList and costList from above\n",
        "\n",
        "fig, ax = plt.subplots()\n",
        "ax.plot(sizeList, mcostListSimple,'--bo', label=\"Simple\")\n",
        "ax.plot(sizeList, mcostListOptimized,'--r^', label=\"Optimized\")\n",
        "ax.plot(sizeList, mcostListThreshold,'-g', label=\"1Kb Limit\")\n",
        "\n",
        "ax.set(xlabel='input size', ylabel='MiB used',\n",
        "       title='Memory space complexity curve')\n",
        "ax.grid()\n",
        "ax.legend()\n",
        "plt.show()"
      ],
      "execution_count": null,
      "outputs": [
        {
          "output_type": "display_data",
          "data": {
            "image/png": "[encoded data removed]",
            "text/plain": [
              "<Figure size 432x288 with 1 Axes>"
            ]
          },
          "metadata": {
            "tags": [],
            "needs_background": "light"
          }
        }
      ]
    },
    {
      "cell_type": "markdown",
      "metadata": {
        "id": "LNnjjDGhNHCW"
      },
      "source": [
        "**Your curve should stay below the limit**"
      ]
    },
    {
      "cell_type": "markdown",
      "metadata": {
        "id": "Y5PuA2WJNP_z"
      },
      "source": [
        "# Challenge : time complexity curves "
      ]
    },
    {
      "cell_type": "code",
      "metadata": {
        "id": "tsRv6h1kLs00",
        "colab": {
          "base_uri": "https://localhost:8080/"
        },
        "outputId": "7552c279-29a2-4631-c18e-3e599ae612c9"
      },
      "source": [
        "import pprofile\n",
        "import pstats\n",
        "import numpy as np\n",
        "\n",
        "sizeList=[]\n",
        "tcostListSimple=[]\n",
        "tcostListOptimized=[]\n",
        "tcostListCorrectThreshold=[]\n",
        "tcostListGoodThreshold=[]\n",
        "\n",
        "# We will iterate on each file to find the complexity curve\n",
        "for filename,dataSize in filelist.items():\n",
        "  sizeList.append(dataSize)\n",
        "\n",
        "  prof = pprofile.Profile()\n",
        "  prof.runcall(filterMaxByLineSimple, filename)\n",
        "  timingFile = list(prof.file_dict.values())[0][0]\n",
        "  tcostListSimple.append(timingFile.getTotalHitCount())\n",
        "\n",
        "  prof = pprofile.Profile()\n",
        "  prof.runcall(filterMaxByLineOptimized, filename)\n",
        "  timingFile = list(prof.file_dict.values())[0][0]\n",
        "  tcostListOptimized.append(timingFile.getTotalHitCount())\n",
        "\n",
        "  tcostListCorrectThreshold.append(7.1*dataSize)\n",
        "  tcostListGoodThreshold.append(5.1*dataSize)\n",
        "\n",
        "print(sizeList)\n",
        "print(tcostListSimple)\n",
        "print(tcostListOptimized)"
      ],
      "execution_count": null,
      "outputs": [
        {
          "output_type": "stream",
          "text": [
            "[100000, 200000, 1000000]\n",
            "[400032, 800044, 3999674]\n",
            "[560823, 976538, 4199830]\n"
          ],
          "name": "stdout"
        }
      ]
    },
    {
      "cell_type": "code",
      "metadata": {
        "colab": {
          "base_uri": "https://localhost:8080/",
          "height": 295
        },
        "id": "WPutqYPTNlTW",
        "outputId": "df62563e-a0fb-4e70-c090-cda7a22a7683"
      },
      "source": [
        "#Let's plot things !\n",
        "import matplotlib\n",
        "import matplotlib.pyplot as plt\n",
        "\n",
        "# Data for plotting\n",
        "#sizeList and costList from above\n",
        "\n",
        "fig, ax = plt.subplots()\n",
        "ax.plot(sizeList, tcostListGoodThreshold,'-', color='xkcd:light green', label=\"Best code from last year threshold\")\n",
        "ax.plot(sizeList, tcostListCorrectThreshold,'-', color='xkcd:peach', label=\"Minimum threshold\")\n",
        "ax.plot(sizeList, tcostListSimple,'--bo', label=\"Simple\")\n",
        "ax.plot(sizeList, tcostListOptimized,'--r^', label=\"Optimized\")\n",
        "\n",
        "ax.set(xlabel='input size', ylabel='# of operations',\n",
        "       title='Execution time complexity curve')\n",
        "ax.grid()\n",
        "ax.legend()\n",
        "plt.show()"
      ],
      "execution_count": null,
      "outputs": [
        {
          "output_type": "display_data",
          "data": {
            "image/png": "[encoded data removed]",
            "text/plain": [
              "<Figure size 432x288 with 1 Axes>"
            ]
          },
          "metadata": {
            "tags": [],
            "needs_background": "light"
          }
        }
      ]
    },
    {
      "cell_type": "markdown",
      "metadata": {
        "id": "zga_q0QgcFq-"
      },
      "source": [
        "**Your code should not be above the orange curve and the closest possible to the green one (or below ?)**"
      ]
    },
    {
      "cell_type": "markdown",
      "metadata": {
        "id": "l4w0oHK9TPtY"
      },
      "source": [
        "# Bonus : What is the best/worst cases of your algorithms"
      ]
    },
    {
      "cell_type": "markdown",
      "metadata": {
        "id": "iHfMzInkTUuJ"
      },
      "source": [
        "Explain HERE what are the best/worst cases of your algorithms"
      ]
    }
  ]
}